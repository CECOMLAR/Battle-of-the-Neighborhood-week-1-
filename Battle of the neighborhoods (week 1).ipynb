{
 "cells": [
  {
   "cell_type": "markdown",
   "metadata": {
    "collapsed": true
   },
   "source": [
    "Battle of the Neighborhoods (Week 1) Assignment"
   ]
  },
  {
   "cell_type": "markdown",
   "metadata": {},
   "source": [
    "For this week, you will be required to submit the following:\n",
    "    \n",
    "•\tA description of the problem and a discussion of the background. (15 marks)\n",
    "\n",
    "•\tEl Paso, Texas is the city where I live in. I moved to El Paso and did market research on housing and neighborhoods where my family\n",
    "might be interested in living based on my requirements and preferences. \n",
    "The usual course of actions people take is to seek out real estate agents to help and assist through the housing search. While this\n",
    "approach is a great start it may have built in bias due to the agent’s motivation to earn a commission.\n",
    "My goal here is to provide relevant data and information by constructing and manipulating the data to be easily understood by a new\n",
    "resident of El Paso, TX.\n",
    "\n",
    "•\tA description of the data and how it will be used to solve the problem. (15 marks)\n",
    "\n",
    "The data will come from El Paso city web site https://www.elpasotexas.gov/economic-development/business-services/data-and-statistics. \n",
    "In addition, data will be pulled from https://en.wikipedia.org/wiki/El_Paso,_Texas#Neighborhoods.\n",
    "Foursquare will be used to get geo data and visualization to help the reader see neighborhoods and the factors and characteristics \n",
    "that maybe important to them. Data will be pulled from city-data on sex offenders https://www.city-data.com/so/so-El-Paso-Texas.html. \n",
    "\n",
    "For the second week, the final deliverables of the project will be:\n",
    "1.\tA link to your Notebook on your Github repository, showing your code. (15 marks)\n",
    "\n",
    "2.\tA full report consisting of all of the following components (15 marks):\n",
    "•\tIntroduction where you discuss the business problem and who would be interested in this project.\n",
    "El Paso, TX has earned several notable awards i.e., achievement in organizational development by quality Texas foundation in 2018, Finalist in the All-American city by Nation league of cities 2018, #1 best run city in Texas by Wallet Hub 2017; #1 Lowest Cost of Living by Forbes 2018. The business problem is help new residents of El Paso to obtain timely and relevant data to help them in making up their minds on which neighborhoods would be the best area for their families to live in. This will be based on various factors such as schools, distance to work, hospitals shopping and city services i.e., police fire and departments.\n",
    "•\tData where you describe the data that will be used to solve the problem and the source of the data.\n",
    "I will used population, work force & income, schools, education, transportation and sex offender data. My sources of the data will come from the El Paso city sites, Wikipedia and city-data. \n",
    "\n",
    "•\tMethodology section which represents the main component of the report where you discuss and describe any exploratory data analysis that you did, any inferential statistical testing that you performed, if any, and what machine learnings were used and why. I’ll scrape data from all mentioned data sources to get the best overall picture of possible neighborhoods one might want to live in. I’ll select the top neighborhoods based on data obtained.\n",
    "\n",
    "•\tResults section where you discuss the results.\n",
    "\n",
    "•\tDiscussion section where you discuss any observations you noted and any recommendations you can make based on the results.\n",
    "\n",
    "•\tConclusion section where you conclude the report.\n",
    "\n",
    "3. Your choice of a presentation or blogpost. (10 marks)"
   ]
  }
 ],
 "metadata": {
  "kernelspec": {
   "display_name": "Python 3.7",
   "language": "python",
   "name": "python3"
  },
  "language_info": {
   "codemirror_mode": {
    "name": "ipython",
    "version": 3
   },
   "file_extension": ".py",
   "mimetype": "text/x-python",
   "name": "python",
   "nbconvert_exporter": "python",
   "pygments_lexer": "ipython3",
   "version": "3.7.9"
  }
 },
 "nbformat": 4,
 "nbformat_minor": 1
}
